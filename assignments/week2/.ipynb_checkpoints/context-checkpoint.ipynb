{
 "cells": [
  {
   "cell_type": "markdown",
   "metadata": {
    "collapsed": false
   },
   "source": [
    "Opdracht week 2\n",
    "===============\n",
    "\n",
    "In deze opdracht gaan we de toetsuitslagen analyseren van twee eerstejaarsvakken:\n",
    "1. Computer Systems and Networks (CSN)\n",
    "2. Programmeren (PROG)\n",
    "\n",
    "Voor elk van deze tentamens zijn de tentamenuitslagen beschikbaar gesteld in de volgende bestanden:\n",
    "1. uitslag_csn.xlsx\n",
    "2. uitslag_prog.xlsx\n",
    "\n",
    "***Merk op dat de datasets in het excel-formaat staan.***\n",
    "\n",
    "---\n",
    "\n",
    "**Opdracht 1 - Dependencies**\n",
    "\n",
    "Voor het renderen van grafieken zullen we Seaborn gebruiken, extra functionaliteit bovenop Matplotlib. Installeer Seaborn op de volgende manier:\n",
    "\n",
    "1. Open een terminal: Win+R --> cmd --> enter\n",
    "2. Installeer via de anaconda package manager: conda install seaborn\n",
    "\n",
    "We zullen voor de analyses gebruik maken van Pandas en Matplotlib. Importeer hiervoor de juiste biblioteheken."
   ]
  },
  {
   "cell_type": "markdown",
   "metadata": {},
   "source": [
    "**Opdracht 2 - Exploratie**\n",
    "\n",
    "Importeer de datasets in geschikte dataframes en beschrijf de dataset:\n",
    "1. Wat zijn de dimensies van het dataframe?\n",
    "2. Wat zijn de attributen in het dataframe? Zijn er missende waarden?\n",
    "3. Wat zijn de datatypes voor de attributen? Van welk type is iedere dimensie (nominaal/categoriaal/discreet/continue)? Plaats de antwoorden in een tabel.\n",
    "4. De excel-file bevatte dezelfde header-name voor alle scores. De importer heeft dit voor je opgelost door duplicate header-namen te nummeren. Nadeel is echter dat de eerste zelf geen nummer heeft. Manipuleer de headers zodat de telling begint met Score.1 ipv. Score (merk op dat Score.1 dan hernoemt moet worden naar Score.2, etc.).\n",
    "5. Toon de eerste 10 regels van het dataframe.\n",
    "6. Het datatype van kolom 'eindtijd' zou overduidelijk een tijdstip moeten zijn, maar ***dtypes*** geeft aan dat het een object is. Converteer deze kolom naar een datetime. Tip: gebruik ***to_datetime*** van Pandas.\n",
    "7. Bepaal vast een paar statistieken van de dataset via ***decsribe***. Wat betekenen deze getallen?\n",
    "8. StudentNummer wordt behandeld als een continue getal, maar eigenlijk zou het type nominaal moet zijn. Converteer het type van StudentNummer naar Categorial m.b.v. ***astype***. Voer nu nogmaals ***describe*** uit. Wat is er veranderd?\n",
    "9. Plot een histogram voor het attribuut **Eindtijd** (zorg dat de labels op de assen niet overlappen). Beschrijf de verdeling (scheef? multimodaal? normaal?). Verklaar wat je ziet."
   ]
  },
  {
   "cell_type": "markdown",
   "metadata": {},
   "source": [
    "**Opdracht 3 - Toetsanalyse**\n",
    "\n",
    "In deze opdracht zullen we de vragen van het tentamen analyseren.\n",
    "\n",
    "1. Bepaal de centrummaten voor iedere toetsvraag:\n",
    "  1. Bereken het gemiddelde. De mogelijke waarden bij iedere score is 0 of 1, maar de gemiddelden zijn hier decimale (gebroken) getallen. Hoe dien je dit te interpreteren?\n",
    "  2. Als het gemiddelde van een vraag hoog is, kun je dan de volgende *kwalitatieve* uitspraak doen: \"De vraag was makkelijk\"? Beargumenteer.\n",
    "  3. Plot de gemiddelden per vraag in een barchart en daarna in een linechart. Plot nogmaals de gemiddelden, maar dan gesorteerd op gemiddelde. Maak gebruik van het feit dat ***mean*** een dataframe oplevert!\n",
    "  2. Bereken de mediaan. Zie je een relatie tussen de mediaan en het gemiddelde? Is deze relatie er altijd?\n",
    "  3. Bereken de modus. \n",
    "    1. Waarom zie je voor de maat wél StudentNummer als kolom terug in het resultaat? \n",
    "    2. Waarom zie je meerdere rijen?\n",
    "    3. Waarom bevatten sommige cellen NaN?\n",
    "2. Bepaal de spreidingsmaten voor iedere vraag:\n",
    "  1. Bereken de variantie.\n",
    "    1. Wat zegt dit getal?\n",
    "    2. Wat voor *kwalitatieve* uitspraak kun je doen over een vraag als de variantie hoog is?\n",
    "  2. Bereken de standaard deviatie. \n",
    "    1. Hoe verschilt deze maat van de variantie? \n",
    "    2. Is er een verband tussen de standaard deviatie en variantie? Welke van beide maten is intuitiever?\n",
    "    3. Plot nogmaals de gemiddelden per vraag, maar visualiseer nu ook de standaard deviatie (Tip: gebruik de paramter ***yerr*** van ***plot.bar***). Is er op het oog een verband tussen de centrummaat en de spreidingsmaat?\n",
    "    "
   ]
  },
  {
   "cell_type": "markdown",
   "metadata": {},
   "source": [
    "**Opdracht 4 - Studentanalyse**\n",
    "\n",
    "1. Bepaal de gemiddelde scores per student en toon de hoogstscorende eerst.\n",
    "2. Voeg twee kolommen per student toe:\n",
    "  1. cijfer = $\\frac{9}{30}(\\sum_{i=1}^{40}{Score.i}-10) + 1$\n",
    "  2. eindcijfer = $\\max(1, cijfer)$. (Tip: gebruik ***np.maximum***)\n",
    "3. Bepaal het totale gemiddelde over alle studenten. Doe dit nogmaals, maar dan alleen de studenten die een voldoende hebben gescoord.\n",
    "4. Plot een histogram van de eindcijfers. (Tip: gebruik ***distplot*** van Seaborn). Wat kun je zeggen over de verdeling (scheef? multimodaal? normaal?) En voor cijfer?\n",
    "5. Doe een test of de cijfers/eind normaal zijn verdeeld. (Tip: gebruik ***probplot*** van ***SciPy***). Beschrijf wat de plot betekent. Wat is het verschil tussen cijfer en eindcijfer en kun je dit verklaren?\n",
    "6. Laten we aannemen dat de cijfers normaal verdeeld zijn. \n",
    "  1. Welke parameters heeft een normaalverdeling?\n",
    "  2. Wat zijn deze parameters voor onze cijfer-verdeling? Sla deze verdeling op in een variable **C**. (Tip: gebruik ***norm*** van ***SciPy***.\n",
    "  3. Plot $C$.\n",
    "  4. Bereken $\\Pr(C < 6)$. (Tip: gebruik ***cdf***)\n",
    "  5. Bereken $\\Pr(C > 8,5)$\n",
    "  6. Bereken $\\Pr(C > 10)$. Leg dit uit.\n",
    "  7. Bereken $\\Pr(6 < C < 8,5)$.\n",
    "  8. Bereken $\\Pr(C < 6 \\lor C > 8,5) \\>$ ($\\lor$ is wiskundige notatie voor OR)\n",
    "  9. Plot nogmaals de normaalverdeling, dit maal met het oppervlak 6 < cijfer < 8,5 ingekleurd. (Tip: gebruik ***fill_between***)\n",
    "  10. Welk cijfer moet je minimaal hebben om bij de top 10% van de klas te behoren?\n",
    "8. Is er een correlatie tussen de cijfers van CSN en PROG? (Tip: zorg ervoor dat studenten die niet aan beide toetsen hebben deelgenomen worden genegeerd). Hoeveel procent van de variabiliteit tussen de cijfers kunnen we verklaren met een linear verband?"
   ]
  },
  {
   "cell_type": "markdown",
   "metadata": {},
   "source": [
    "**Opdracht 5 - Klasanalyse**\n",
    "\n",
    "In deze opdracht zullen we de klassen analyseren. Hiertoe dienen we de dataset in **klassenindeling.xslx** te laden.\n",
    "\n",
    "1. Breid de huidige dataframes uit met klassgegevens. Zijn er studenten zonder klas?\n",
    "2. Bereken een nieuw dataframe met statistieken per klas, bestaande uit:\n",
    "  1. gemiddelde cijfer\n",
    "  2. standaard deviatie cijfer\n",
    "  3. goedpercentage per vraag\n",
    "  4. slagingspercentage\n",
    "3. Plot het gemiddelde per vraag in een linechart en gebruik voor iedere klas een aparte lijn.\n",
    "4. Bepaal of er klassen zijn waarbij het slagingspercentage hoger is dan het gemiddelde. Hoe kun je dit verklaren?\n",
    "5. Een student verkondigt trots dat zij een 8,2 heeft gehaald voor PROG. Ze is benieuwd hoeveel procent van de studenten het beter heeft gemaakt dan zij.\n",
    "  1. Bepaal de z-score van deze student op basis van de gehele populatie. Wat zegt deze score?\n",
    "  2. Bepaal per klas hoeveel procent van de klas beter heeft gescoord. Wat zegt deze score?"
   ]
  }
 ],
 "metadata": {
  "anaconda-cloud": {},
  "kernelspec": {
   "display_name": "Python 3",
   "language": "python",
   "name": "python3"
  },
  "language_info": {
   "codemirror_mode": {
    "name": "ipython",
    "version": 3
   },
   "file_extension": ".py",
   "mimetype": "text/x-python",
   "name": "python",
   "nbconvert_exporter": "python",
   "pygments_lexer": "ipython3",
   "version": "3.6.0"
  }
 },
 "nbformat": 4,
 "nbformat_minor": 1
}
