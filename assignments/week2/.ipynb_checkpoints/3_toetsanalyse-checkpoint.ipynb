{
 "cells": [
  {
   "cell_type": "code",
   "execution_count": 66,
   "metadata": {
    "collapsed": false
   },
   "outputs": [],
   "source": [
    "import pandas as pd\n",
    "import matplotlib as mpl\n",
    "csn = pd.read_excel(\"uitslag_csn.xlsx\")"
   ]
  },
  {
   "cell_type": "markdown",
   "metadata": {},
   "source": [
    "# 1\n",
    "Bepaal de centrummaten voor iedere toetsvraag\n",
    "\n",
    "# 1.1\n",
    "Bereken het gemiddelde. De mogelijke waarden bij iedere score is 0 of 1, maar de gemiddelden zijn hier decimale (gebroken) getallen. Hoe dien je dit te interpreteren?\n",
    "\n",
    "- Alle scores bij elkaar optellen en door het aantal scores delen, vervolgens doe je het *10."
   ]
  },
  {
   "cell_type": "code",
   "execution_count": 67,
   "metadata": {
    "collapsed": false
   },
   "outputs": [
    {
     "data": {
      "text/html": [
       "<div>\n",
       "<table border=\"1\" class=\"dataframe\">\n",
       "  <thead>\n",
       "    <tr style=\"text-align: right;\">\n",
       "      <th></th>\n",
       "      <th>0</th>\n",
       "    </tr>\n",
       "  </thead>\n",
       "  <tbody>\n",
       "    <tr>\n",
       "      <th>0</th>\n",
       "      <td>9.081420</td>\n",
       "    </tr>\n",
       "    <tr>\n",
       "      <th>1</th>\n",
       "      <td>5.657620</td>\n",
       "    </tr>\n",
       "    <tr>\n",
       "      <th>2</th>\n",
       "      <td>6.659708</td>\n",
       "    </tr>\n",
       "    <tr>\n",
       "      <th>3</th>\n",
       "      <td>5.762004</td>\n",
       "    </tr>\n",
       "    <tr>\n",
       "      <th>4</th>\n",
       "      <td>6.388309</td>\n",
       "    </tr>\n",
       "    <tr>\n",
       "      <th>5</th>\n",
       "      <td>8.893528</td>\n",
       "    </tr>\n",
       "    <tr>\n",
       "      <th>6</th>\n",
       "      <td>4.070981</td>\n",
       "    </tr>\n",
       "    <tr>\n",
       "      <th>7</th>\n",
       "      <td>8.496868</td>\n",
       "    </tr>\n",
       "    <tr>\n",
       "      <th>8</th>\n",
       "      <td>4.739040</td>\n",
       "    </tr>\n",
       "    <tr>\n",
       "      <th>9</th>\n",
       "      <td>4.676409</td>\n",
       "    </tr>\n",
       "    <tr>\n",
       "      <th>10</th>\n",
       "      <td>8.141962</td>\n",
       "    </tr>\n",
       "    <tr>\n",
       "      <th>11</th>\n",
       "      <td>7.473904</td>\n",
       "    </tr>\n",
       "    <tr>\n",
       "      <th>12</th>\n",
       "      <td>5.908142</td>\n",
       "    </tr>\n",
       "    <tr>\n",
       "      <th>13</th>\n",
       "      <td>4.759916</td>\n",
       "    </tr>\n",
       "    <tr>\n",
       "      <th>14</th>\n",
       "      <td>5.302714</td>\n",
       "    </tr>\n",
       "    <tr>\n",
       "      <th>15</th>\n",
       "      <td>9.185804</td>\n",
       "    </tr>\n",
       "    <tr>\n",
       "      <th>16</th>\n",
       "      <td>6.409186</td>\n",
       "    </tr>\n",
       "    <tr>\n",
       "      <th>17</th>\n",
       "      <td>8.413361</td>\n",
       "    </tr>\n",
       "    <tr>\n",
       "      <th>18</th>\n",
       "      <td>6.116910</td>\n",
       "    </tr>\n",
       "    <tr>\n",
       "      <th>19</th>\n",
       "      <td>7.453027</td>\n",
       "    </tr>\n",
       "    <tr>\n",
       "      <th>20</th>\n",
       "      <td>7.703549</td>\n",
       "    </tr>\n",
       "    <tr>\n",
       "      <th>21</th>\n",
       "      <td>7.807933</td>\n",
       "    </tr>\n",
       "    <tr>\n",
       "      <th>22</th>\n",
       "      <td>6.304802</td>\n",
       "    </tr>\n",
       "    <tr>\n",
       "      <th>23</th>\n",
       "      <td>7.014614</td>\n",
       "    </tr>\n",
       "    <tr>\n",
       "      <th>24</th>\n",
       "      <td>6.200418</td>\n",
       "    </tr>\n",
       "    <tr>\n",
       "      <th>25</th>\n",
       "      <td>4.759916</td>\n",
       "    </tr>\n",
       "    <tr>\n",
       "      <th>26</th>\n",
       "      <td>7.369520</td>\n",
       "    </tr>\n",
       "    <tr>\n",
       "      <th>27</th>\n",
       "      <td>2.881002</td>\n",
       "    </tr>\n",
       "    <tr>\n",
       "      <th>28</th>\n",
       "      <td>5.469729</td>\n",
       "    </tr>\n",
       "    <tr>\n",
       "      <th>29</th>\n",
       "      <td>2.442589</td>\n",
       "    </tr>\n",
       "    <tr>\n",
       "      <th>30</th>\n",
       "      <td>5.344468</td>\n",
       "    </tr>\n",
       "    <tr>\n",
       "      <th>31</th>\n",
       "      <td>8.121086</td>\n",
       "    </tr>\n",
       "    <tr>\n",
       "      <th>32</th>\n",
       "      <td>3.068894</td>\n",
       "    </tr>\n",
       "    <tr>\n",
       "      <th>33</th>\n",
       "      <td>7.828810</td>\n",
       "    </tr>\n",
       "    <tr>\n",
       "      <th>34</th>\n",
       "      <td>7.995825</td>\n",
       "    </tr>\n",
       "    <tr>\n",
       "      <th>35</th>\n",
       "      <td>9.624217</td>\n",
       "    </tr>\n",
       "    <tr>\n",
       "      <th>36</th>\n",
       "      <td>5.929019</td>\n",
       "    </tr>\n",
       "    <tr>\n",
       "      <th>37</th>\n",
       "      <td>5.762004</td>\n",
       "    </tr>\n",
       "    <tr>\n",
       "      <th>38</th>\n",
       "      <td>8.204593</td>\n",
       "    </tr>\n",
       "    <tr>\n",
       "      <th>39</th>\n",
       "      <td>8.601253</td>\n",
       "    </tr>\n",
       "  </tbody>\n",
       "</table>\n",
       "</div>"
      ],
      "text/plain": [
       "           0\n",
       "0   9.081420\n",
       "1   5.657620\n",
       "2   6.659708\n",
       "3   5.762004\n",
       "4   6.388309\n",
       "5   8.893528\n",
       "6   4.070981\n",
       "7   8.496868\n",
       "8   4.739040\n",
       "9   4.676409\n",
       "10  8.141962\n",
       "11  7.473904\n",
       "12  5.908142\n",
       "13  4.759916\n",
       "14  5.302714\n",
       "15  9.185804\n",
       "16  6.409186\n",
       "17  8.413361\n",
       "18  6.116910\n",
       "19  7.453027\n",
       "20  7.703549\n",
       "21  7.807933\n",
       "22  6.304802\n",
       "23  7.014614\n",
       "24  6.200418\n",
       "25  4.759916\n",
       "26  7.369520\n",
       "27  2.881002\n",
       "28  5.469729\n",
       "29  2.442589\n",
       "30  5.344468\n",
       "31  8.121086\n",
       "32  3.068894\n",
       "33  7.828810\n",
       "34  7.995825\n",
       "35  9.624217\n",
       "36  5.929019\n",
       "37  5.762004\n",
       "38  8.204593\n",
       "39  8.601253"
      ]
     },
     "execution_count": 67,
     "metadata": {},
     "output_type": "execute_result"
    }
   ],
   "source": [
    "csn_scores = pd.DataFrame([v.mean()*10 for v in [csn.values[:, csn.columns.get_loc(v)] for v in csn.columns if v.startswith(\"Score\")]])\n",
    "csn_scores"
   ]
  },
  {
   "cell_type": "markdown",
   "metadata": {},
   "source": [
    "# 1.2\n",
    "Als het gemiddelde van een vraag hoog is, kun je dan de volgende *kwalitatieve* uitspraak doen: \"De vraag was makkelijk\"? Beargumenteer.\n",
    "\n",
    "- Een groot deel van de studenten wist de vraag te beantwoorden"
   ]
  },
  {
   "cell_type": "markdown",
   "metadata": {},
   "source": [
    "# 1.3\n",
    "Plot de gemiddelden per vraag in een barchart en daarna in een linechart. Plot nogmaals de gemiddelden, maar dan gesorteerd op gemiddelde. Maak gebruik van het feit dat ***mean*** een dataframe oplevert!"
   ]
  },
  {
   "cell_type": "code",
   "execution_count": 68,
   "metadata": {
    "collapsed": false
   },
   "outputs": [
    {
     "data": {
      "image/png": "[encoded data removed]",
      "text/plain": [
       "<matplotlib.figure.Figure at 0x7fe1282ad710>"
      ]
     },
     "metadata": {},
     "output_type": "display_data"
    }
   ],
   "source": [
    "csn_scores.plot(kind='bar')\n",
    "mpl.pyplot.show()"
   ]
  },
  {
   "cell_type": "code",
   "execution_count": 69,
   "metadata": {
    "collapsed": false
   },
   "outputs": [
    {
     "data": {
      "image/png": "[encoded data removed]",
      "text/plain": [
       "<matplotlib.figure.Figure at 0x7fe128403208>"
      ]
     },
     "metadata": {},
     "output_type": "display_data"
    }
   ],
   "source": [
    "csn_scores.plot(kind='line')\n",
    "mpl.pyplot.show()"
   ]
  },
  {
   "cell_type": "code",
   "execution_count": 71,
   "metadata": {
    "collapsed": false
   },
   "outputs": [
    {
     "data": {
      "image/png": "[encoded data removed]",
      "text/plain": [
       "<matplotlib.figure.Figure at 0x7fe128640fd0>"
      ]
     },
     "metadata": {},
     "output_type": "display_data"
    }
   ],
   "source": [
    "csn_scores.sort_values(by=0, ascending=True).plot(kind='bar')\n",
    "mpl.pyplot.show()"
   ]
  },
  {
   "cell_type": "markdown",
   "metadata": {},
   "source": [
    "# 1.4\n",
    "Bereken de mediaan. Zie je een relatie tussen de mediaan en het gemiddelde? Is deze relatie er altijd?\n",
    "\n",
    "- Vragen waar slecht is gescored hebben een 0 als mediaan en waar 5 of hoger op gescored is hebben een een 1 als mediaan."
   ]
  },
  {
   "cell_type": "code",
   "execution_count": 74,
   "metadata": {
    "collapsed": false
   },
   "outputs": [
    {
     "data": {
      "text/plain": [
       "StudentNummer    5339292.0\n",
       "Score                  1.0\n",
       "Score.1                1.0\n",
       "Score.2                1.0\n",
       "Score.3                1.0\n",
       "Score.4                1.0\n",
       "Score.5                1.0\n",
       "Score.6                0.0\n",
       "Score.7                1.0\n",
       "Score.8                0.0\n",
       "Score.9                0.0\n",
       "Score.10               1.0\n",
       "Score.11               1.0\n",
       "Score.12               1.0\n",
       "Score.13               0.0\n",
       "Score.14               1.0\n",
       "Score.15               1.0\n",
       "Score.16               1.0\n",
       "Score.17               1.0\n",
       "Score.18               1.0\n",
       "Score.19               1.0\n",
       "Score.20               1.0\n",
       "Score.21               1.0\n",
       "Score.22               1.0\n",
       "Score.23               1.0\n",
       "Score.24               1.0\n",
       "Score.25               0.0\n",
       "Score.26               1.0\n",
       "Score.27               0.0\n",
       "Score.28               1.0\n",
       "Score.29               0.0\n",
       "Score.30               1.0\n",
       "Score.31               1.0\n",
       "Score.32               0.0\n",
       "Score.33               1.0\n",
       "Score.34               1.0\n",
       "Score.35               1.0\n",
       "Score.36               1.0\n",
       "Score.37               1.0\n",
       "Score.38               1.0\n",
       "Score.39               1.0\n",
       "dtype: float64"
      ]
     },
     "execution_count": 74,
     "metadata": {},
     "output_type": "execute_result"
    }
   ],
   "source": [
    "csn.median()"
   ]
  },
  {
   "cell_type": "markdown",
   "metadata": {},
   "source": [
    "# 1.5\n",
    "Bereken de modus. \n",
    "1. Waarom zie je voor de maat wél StudentNummer als kolom terug in het resultaat? \n",
    "  - De kolom is numeriek maar heeft geen herhalende waardens.\n",
    "2. Waarom zie je meerdere rijen?\n",
    "  - De eerste row berekend de mediaan, de twee volgende rijen zijn betreft de modus.\n",
    "3. Waarom bevatten sommige cellen NaN?\n",
    "  - Dan bevatten de resultaten meerdere waardes."
   ]
  },
  {
   "cell_type": "code",
   "execution_count": 77,
   "metadata": {
    "collapsed": false
   },
   "outputs": [
    {
     "data": {
      "text/html": [
       "<div>\n",
       "<table border=\"1\" class=\"dataframe\">\n",
       "  <thead>\n",
       "    <tr style=\"text-align: right;\">\n",
       "      <th></th>\n",
       "      <th>StudentNummer</th>\n",
       "      <th>Eindtijd</th>\n",
       "      <th>Score</th>\n",
       "      <th>Score.1</th>\n",
       "      <th>Score.2</th>\n",
       "      <th>Score.3</th>\n",
       "      <th>Score.4</th>\n",
       "      <th>Score.5</th>\n",
       "      <th>Score.6</th>\n",
       "      <th>Score.7</th>\n",
       "      <th>...</th>\n",
       "      <th>Score.30</th>\n",
       "      <th>Score.31</th>\n",
       "      <th>Score.32</th>\n",
       "      <th>Score.33</th>\n",
       "      <th>Score.34</th>\n",
       "      <th>Score.35</th>\n",
       "      <th>Score.36</th>\n",
       "      <th>Score.37</th>\n",
       "      <th>Score.38</th>\n",
       "      <th>Score.39</th>\n",
       "    </tr>\n",
       "  </thead>\n",
       "  <tbody>\n",
       "    <tr>\n",
       "      <th>0</th>\n",
       "      <td>NaN</td>\n",
       "      <td>2016-10-14 12:22:49.000</td>\n",
       "      <td>1.0</td>\n",
       "      <td>1.0</td>\n",
       "      <td>1.0</td>\n",
       "      <td>1.0</td>\n",
       "      <td>1.0</td>\n",
       "      <td>1.0</td>\n",
       "      <td>0.0</td>\n",
       "      <td>1.0</td>\n",
       "      <td>...</td>\n",
       "      <td>1.0</td>\n",
       "      <td>1.0</td>\n",
       "      <td>0.0</td>\n",
       "      <td>1.0</td>\n",
       "      <td>1.0</td>\n",
       "      <td>1.0</td>\n",
       "      <td>1.0</td>\n",
       "      <td>1.0</td>\n",
       "      <td>1.0</td>\n",
       "      <td>1.0</td>\n",
       "    </tr>\n",
       "    <tr>\n",
       "      <th>1</th>\n",
       "      <td>NaN</td>\n",
       "      <td>2016-10-14 12:29:26.000</td>\n",
       "      <td>NaN</td>\n",
       "      <td>NaN</td>\n",
       "      <td>NaN</td>\n",
       "      <td>NaN</td>\n",
       "      <td>NaN</td>\n",
       "      <td>NaN</td>\n",
       "      <td>NaN</td>\n",
       "      <td>NaN</td>\n",
       "      <td>...</td>\n",
       "      <td>NaN</td>\n",
       "      <td>NaN</td>\n",
       "      <td>NaN</td>\n",
       "      <td>NaN</td>\n",
       "      <td>NaN</td>\n",
       "      <td>NaN</td>\n",
       "      <td>NaN</td>\n",
       "      <td>NaN</td>\n",
       "      <td>NaN</td>\n",
       "      <td>NaN</td>\n",
       "    </tr>\n",
       "    <tr>\n",
       "      <th>2</th>\n",
       "      <td>NaN</td>\n",
       "      <td>2016-10-14 12:30:18.000</td>\n",
       "      <td>NaN</td>\n",
       "      <td>NaN</td>\n",
       "      <td>NaN</td>\n",
       "      <td>NaN</td>\n",
       "      <td>NaN</td>\n",
       "      <td>NaN</td>\n",
       "      <td>NaN</td>\n",
       "      <td>NaN</td>\n",
       "      <td>...</td>\n",
       "      <td>NaN</td>\n",
       "      <td>NaN</td>\n",
       "      <td>NaN</td>\n",
       "      <td>NaN</td>\n",
       "      <td>NaN</td>\n",
       "      <td>NaN</td>\n",
       "      <td>NaN</td>\n",
       "      <td>NaN</td>\n",
       "      <td>NaN</td>\n",
       "      <td>NaN</td>\n",
       "    </tr>\n",
       "  </tbody>\n",
       "</table>\n",
       "<p>3 rows × 42 columns</p>\n",
       "</div>"
      ],
      "text/plain": [
       "   StudentNummer                 Eindtijd  Score  Score.1  Score.2  Score.3  \\\n",
       "0            NaN  2016-10-14 12:22:49.000    1.0      1.0      1.0      1.0   \n",
       "1            NaN  2016-10-14 12:29:26.000    NaN      NaN      NaN      NaN   \n",
       "2            NaN  2016-10-14 12:30:18.000    NaN      NaN      NaN      NaN   \n",
       "\n",
       "   Score.4  Score.5  Score.6  Score.7    ...     Score.30  Score.31  Score.32  \\\n",
       "0      1.0      1.0      0.0      1.0    ...          1.0       1.0       0.0   \n",
       "1      NaN      NaN      NaN      NaN    ...          NaN       NaN       NaN   \n",
       "2      NaN      NaN      NaN      NaN    ...          NaN       NaN       NaN   \n",
       "\n",
       "   Score.33  Score.34  Score.35  Score.36  Score.37  Score.38  Score.39  \n",
       "0       1.0       1.0       1.0       1.0       1.0       1.0       1.0  \n",
       "1       NaN       NaN       NaN       NaN       NaN       NaN       NaN  \n",
       "2       NaN       NaN       NaN       NaN       NaN       NaN       NaN  \n",
       "\n",
       "[3 rows x 42 columns]"
      ]
     },
     "execution_count": 77,
     "metadata": {},
     "output_type": "execute_result"
    }
   ],
   "source": [
    "csn.mode()"
   ]
  },
  {
   "cell_type": "markdown",
   "metadata": {},
   "source": [
    "# 2\n",
    "Bepaal de spreidingsmaten voor iedere vraag\n",
    "# 2.1\n",
    "Bereken de variantie\n",
    "1. Wat zegt dit getal?\n",
    "- hoever ervan het gemiddelde wordt afgeweken.\n",
    "2. Wat voor *kwalitatieve* uitspraak kun je doen over een vraag als de variantie hoog is?\n",
    "- er is een groot verschil in hoe de kans de vraag heeft beantwoord."
   ]
  },
  {
   "cell_type": "code",
   "execution_count": 78,
   "metadata": {
    "collapsed": false
   },
   "outputs": [
    {
     "data": {
      "text/plain": [
       "StudentNummer    6.948816e+12\n",
       "Score            8.359466e-02\n",
       "Score.1          2.461893e-01\n",
       "Score.2          2.229191e-01\n",
       "Score.3          2.447044e-01\n",
       "Score.4          2.312087e-01\n",
       "Score.5          9.861025e-02\n",
       "Score.6          2.418742e-01\n",
       "Score.7          1.279863e-01\n",
       "Score.8          2.498406e-01\n",
       "Score.9          2.494737e-01\n",
       "Score.10         1.515972e-01\n",
       "Score.11         1.891930e-01\n",
       "Score.12         2.422585e-01\n",
       "Score.13         2.499454e-01\n",
       "Score.14         2.496047e-01\n",
       "Score.15         7.494693e-02\n",
       "Score.16         2.306234e-01\n",
       "Score.17         1.337689e-01\n",
       "Score.18         2.380220e-01\n",
       "Score.19         1.902237e-01\n",
       "Score.20         1.772783e-01\n",
       "Score.21         1.715132e-01\n",
       "Score.22         2.334623e-01\n",
       "Score.23         2.098514e-01\n",
       "Score.24         2.360828e-01\n",
       "Score.25         2.499454e-01\n",
       "Score.26         1.942593e-01\n",
       "Score.27         2.055276e-01\n",
       "Score.28         2.483119e-01\n",
       "Score.29         1.849827e-01\n",
       "Score.30         2.493340e-01\n",
       "Score.31         1.529075e-01\n",
       "Score.32         2.131533e-01\n",
       "Score.33         1.703339e-01\n",
       "Score.34         1.605856e-01\n",
       "Score.35         3.624182e-02\n",
       "Score.36         2.418742e-01\n",
       "Score.37         2.447044e-01\n",
       "Score.38         1.476140e-01\n",
       "Score.39         1.205615e-01\n",
       "dtype: float64"
      ]
     },
     "execution_count": 78,
     "metadata": {},
     "output_type": "execute_result"
    }
   ],
   "source": [
    "csn.var()"
   ]
  },
  {
   "cell_type": "markdown",
   "metadata": {},
   "source": [
    "# 2.2\n",
    "Bereken de standaard deviatie. \n",
    "1. Hoe verschilt deze maat van de variantie? \n",
    "- bij deviatie ligt het veelal rond hetzelfde getal, bij variantie niet.\n",
    "2. Is er een verband tussen de standaard deviatie en variantie? Welke van beide maten is intuitiever?\n",
    "- nee?\n",
    "3. Plot nogmaals de gemiddelden per vraag, maar visualiseer nu ook de standaard deviatie (Tip: gebruik de paramter yerr van plot.bar). Is er op het oog een verband tussen de centrummaat en de spreidingsmaat?\n"
   ]
  },
  {
   "cell_type": "code",
   "execution_count": 79,
   "metadata": {
    "collapsed": false
   },
   "outputs": [
    {
     "data": {
      "text/plain": [
       "StudentNummer    2.636061e+06\n",
       "Score            2.891274e-01\n",
       "Score.1          4.961747e-01\n",
       "Score.2          4.721431e-01\n",
       "Score.3          4.946760e-01\n",
       "Score.4          4.808416e-01\n",
       "Score.5          3.140227e-01\n",
       "Score.6          4.918071e-01\n",
       "Score.7          3.577517e-01\n",
       "Score.8          4.998406e-01\n",
       "Score.9          4.994734e-01\n",
       "Score.10         3.893549e-01\n",
       "Score.11         4.349632e-01\n",
       "Score.12         4.921977e-01\n",
       "Score.13         4.999454e-01\n",
       "Score.14         4.996046e-01\n",
       "Score.15         2.737644e-01\n",
       "Score.16         4.802327e-01\n",
       "Score.17         3.657443e-01\n",
       "Score.18         4.878750e-01\n",
       "Score.19         4.361464e-01\n",
       "Score.20         4.210443e-01\n",
       "Score.21         4.141415e-01\n",
       "Score.22         4.831794e-01\n",
       "Score.23         4.580954e-01\n",
       "Score.24         4.858836e-01\n",
       "Score.25         4.999454e-01\n",
       "Score.26         4.407486e-01\n",
       "Score.27         4.533515e-01\n",
       "Score.28         4.983091e-01\n",
       "Score.29         4.300961e-01\n",
       "Score.30         4.993335e-01\n",
       "Score.31         3.910338e-01\n",
       "Score.32         4.616853e-01\n",
       "Score.33         4.127153e-01\n",
       "Score.34         4.007313e-01\n",
       "Score.35         1.903728e-01\n",
       "Score.36         4.918071e-01\n",
       "Score.37         4.946760e-01\n",
       "Score.38         3.842057e-01\n",
       "Score.39         3.472197e-01\n",
       "dtype: float64"
      ]
     },
     "execution_count": 79,
     "metadata": {},
     "output_type": "execute_result"
    }
   ],
   "source": [
    "csn.std()"
   ]
  },
  {
   "cell_type": "code",
   "execution_count": 85,
   "metadata": {
    "collapsed": false
   },
   "outputs": [
    {
     "data": {
      "image/png": "[encoded data removed]",
      "text/plain": [
       "<matplotlib.figure.Figure at 0x7fe1285f8588>"
      ]
     },
     "metadata": {},
     "output_type": "display_data"
    }
   ],
   "source": [
    "pd.DataFrame([[v.mean(), v.std()] for v in [csn.values[:, csn.columns.get_loc(v)] for v in csn.columns if v.startswith(\"Score\")]], columns=[\"Mean\", \"Standard Deviation\"]).plot.bar()\n",
    "mpl.pyplot.show()"
   ]
  }
 ],
 "metadata": {
  "kernelspec": {
   "display_name": "Python 3",
   "language": "python",
   "name": "python3"
  },
  "language_info": {
   "codemirror_mode": {
    "name": "ipython",
    "version": 3
   },
   "file_extension": ".py",
   "mimetype": "text/x-python",
   "name": "python",
   "nbconvert_exporter": "python",
   "pygments_lexer": "ipython3",
   "version": "3.6.0"
  }
 },
 "nbformat": 4,
 "nbformat_minor": 2
}
