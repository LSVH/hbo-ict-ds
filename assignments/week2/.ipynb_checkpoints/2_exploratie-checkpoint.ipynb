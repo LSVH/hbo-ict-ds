{
 "cells": [
  {
   "cell_type": "code",
   "execution_count": 38,
   "metadata": {
    "collapsed": false
   },
   "outputs": [],
   "source": [
    "import pandas as pd\n",
    "import matplotlib as mpl\n",
    "import seaborn as sb"
   ]
  },
  {
   "cell_type": "markdown",
   "metadata": {},
   "source": [
    "Importeer de datasets in geschikte dataframes"
   ]
  },
  {
   "cell_type": "code",
   "execution_count": 33,
   "metadata": {
    "collapsed": true
   },
   "outputs": [],
   "source": [
    "csn = pd.read_excel('uitslag_csn.xlsx')\n",
    "prog = pd.read_excel('uitslag_prog.xlsx')"
   ]
  },
  {
   "cell_type": "markdown",
   "metadata": {},
   "source": [
    "Omschrijf de dataframes"
   ]
  },
  {
   "cell_type": "code",
   "execution_count": 36,
   "metadata": {
    "collapsed": false
   },
   "outputs": [
    {
     "data": {
      "text/html": [
       "<div>\n",
       "<table border=\"1\" class=\"dataframe\">\n",
       "  <thead>\n",
       "    <tr style=\"text-align: right;\">\n",
       "      <th></th>\n",
       "      <th>StudentNummer</th>\n",
       "      <th>Score</th>\n",
       "      <th>Score.1</th>\n",
       "      <th>Score.2</th>\n",
       "      <th>Score.3</th>\n",
       "      <th>Score.4</th>\n",
       "      <th>Score.5</th>\n",
       "      <th>Score.6</th>\n",
       "      <th>Score.7</th>\n",
       "      <th>Score.8</th>\n",
       "      <th>...</th>\n",
       "      <th>Score.30</th>\n",
       "      <th>Score.31</th>\n",
       "      <th>Score.32</th>\n",
       "      <th>Score.33</th>\n",
       "      <th>Score.34</th>\n",
       "      <th>Score.35</th>\n",
       "      <th>Score.36</th>\n",
       "      <th>Score.37</th>\n",
       "      <th>Score.38</th>\n",
       "      <th>Score.39</th>\n",
       "    </tr>\n",
       "  </thead>\n",
       "  <tbody>\n",
       "    <tr>\n",
       "      <th>count</th>\n",
       "      <td>4.790000e+02</td>\n",
       "      <td>479.000000</td>\n",
       "      <td>479.000000</td>\n",
       "      <td>479.000000</td>\n",
       "      <td>479.000000</td>\n",
       "      <td>479.000000</td>\n",
       "      <td>479.000000</td>\n",
       "      <td>479.000000</td>\n",
       "      <td>479.000000</td>\n",
       "      <td>479.000000</td>\n",
       "      <td>...</td>\n",
       "      <td>479.000000</td>\n",
       "      <td>479.000000</td>\n",
       "      <td>479.000000</td>\n",
       "      <td>479.000000</td>\n",
       "      <td>479.000000</td>\n",
       "      <td>479.000000</td>\n",
       "      <td>479.000000</td>\n",
       "      <td>479.000000</td>\n",
       "      <td>479.000000</td>\n",
       "      <td>479.000000</td>\n",
       "    </tr>\n",
       "    <tr>\n",
       "      <th>mean</th>\n",
       "      <td>5.447409e+06</td>\n",
       "      <td>0.908142</td>\n",
       "      <td>0.565762</td>\n",
       "      <td>0.665971</td>\n",
       "      <td>0.576200</td>\n",
       "      <td>0.638831</td>\n",
       "      <td>0.889353</td>\n",
       "      <td>0.407098</td>\n",
       "      <td>0.849687</td>\n",
       "      <td>0.473904</td>\n",
       "      <td>...</td>\n",
       "      <td>0.534447</td>\n",
       "      <td>0.812109</td>\n",
       "      <td>0.306889</td>\n",
       "      <td>0.782881</td>\n",
       "      <td>0.799582</td>\n",
       "      <td>0.962422</td>\n",
       "      <td>0.592902</td>\n",
       "      <td>0.576200</td>\n",
       "      <td>0.820459</td>\n",
       "      <td>0.860125</td>\n",
       "    </tr>\n",
       "    <tr>\n",
       "      <th>std</th>\n",
       "      <td>2.636061e+06</td>\n",
       "      <td>0.289127</td>\n",
       "      <td>0.496175</td>\n",
       "      <td>0.472143</td>\n",
       "      <td>0.494676</td>\n",
       "      <td>0.480842</td>\n",
       "      <td>0.314023</td>\n",
       "      <td>0.491807</td>\n",
       "      <td>0.357752</td>\n",
       "      <td>0.499841</td>\n",
       "      <td>...</td>\n",
       "      <td>0.499334</td>\n",
       "      <td>0.391034</td>\n",
       "      <td>0.461685</td>\n",
       "      <td>0.412715</td>\n",
       "      <td>0.400731</td>\n",
       "      <td>0.190373</td>\n",
       "      <td>0.491807</td>\n",
       "      <td>0.494676</td>\n",
       "      <td>0.384206</td>\n",
       "      <td>0.347220</td>\n",
       "    </tr>\n",
       "    <tr>\n",
       "      <th>min</th>\n",
       "      <td>1.024103e+06</td>\n",
       "      <td>0.000000</td>\n",
       "      <td>0.000000</td>\n",
       "      <td>0.000000</td>\n",
       "      <td>0.000000</td>\n",
       "      <td>0.000000</td>\n",
       "      <td>0.000000</td>\n",
       "      <td>0.000000</td>\n",
       "      <td>0.000000</td>\n",
       "      <td>0.000000</td>\n",
       "      <td>...</td>\n",
       "      <td>0.000000</td>\n",
       "      <td>0.000000</td>\n",
       "      <td>0.000000</td>\n",
       "      <td>0.000000</td>\n",
       "      <td>0.000000</td>\n",
       "      <td>0.000000</td>\n",
       "      <td>0.000000</td>\n",
       "      <td>0.000000</td>\n",
       "      <td>0.000000</td>\n",
       "      <td>0.000000</td>\n",
       "    </tr>\n",
       "    <tr>\n",
       "      <th>25%</th>\n",
       "      <td>3.275314e+06</td>\n",
       "      <td>1.000000</td>\n",
       "      <td>0.000000</td>\n",
       "      <td>0.000000</td>\n",
       "      <td>0.000000</td>\n",
       "      <td>0.000000</td>\n",
       "      <td>1.000000</td>\n",
       "      <td>0.000000</td>\n",
       "      <td>1.000000</td>\n",
       "      <td>0.000000</td>\n",
       "      <td>...</td>\n",
       "      <td>0.000000</td>\n",
       "      <td>1.000000</td>\n",
       "      <td>0.000000</td>\n",
       "      <td>1.000000</td>\n",
       "      <td>1.000000</td>\n",
       "      <td>1.000000</td>\n",
       "      <td>0.000000</td>\n",
       "      <td>0.000000</td>\n",
       "      <td>1.000000</td>\n",
       "      <td>1.000000</td>\n",
       "    </tr>\n",
       "    <tr>\n",
       "      <th>50%</th>\n",
       "      <td>5.339292e+06</td>\n",
       "      <td>1.000000</td>\n",
       "      <td>1.000000</td>\n",
       "      <td>1.000000</td>\n",
       "      <td>1.000000</td>\n",
       "      <td>1.000000</td>\n",
       "      <td>1.000000</td>\n",
       "      <td>0.000000</td>\n",
       "      <td>1.000000</td>\n",
       "      <td>0.000000</td>\n",
       "      <td>...</td>\n",
       "      <td>1.000000</td>\n",
       "      <td>1.000000</td>\n",
       "      <td>0.000000</td>\n",
       "      <td>1.000000</td>\n",
       "      <td>1.000000</td>\n",
       "      <td>1.000000</td>\n",
       "      <td>1.000000</td>\n",
       "      <td>1.000000</td>\n",
       "      <td>1.000000</td>\n",
       "      <td>1.000000</td>\n",
       "    </tr>\n",
       "    <tr>\n",
       "      <th>75%</th>\n",
       "      <td>7.816836e+06</td>\n",
       "      <td>1.000000</td>\n",
       "      <td>1.000000</td>\n",
       "      <td>1.000000</td>\n",
       "      <td>1.000000</td>\n",
       "      <td>1.000000</td>\n",
       "      <td>1.000000</td>\n",
       "      <td>1.000000</td>\n",
       "      <td>1.000000</td>\n",
       "      <td>1.000000</td>\n",
       "      <td>...</td>\n",
       "      <td>1.000000</td>\n",
       "      <td>1.000000</td>\n",
       "      <td>1.000000</td>\n",
       "      <td>1.000000</td>\n",
       "      <td>1.000000</td>\n",
       "      <td>1.000000</td>\n",
       "      <td>1.000000</td>\n",
       "      <td>1.000000</td>\n",
       "      <td>1.000000</td>\n",
       "      <td>1.000000</td>\n",
       "    </tr>\n",
       "    <tr>\n",
       "      <th>max</th>\n",
       "      <td>9.975114e+06</td>\n",
       "      <td>1.000000</td>\n",
       "      <td>1.000000</td>\n",
       "      <td>1.000000</td>\n",
       "      <td>1.000000</td>\n",
       "      <td>1.000000</td>\n",
       "      <td>1.000000</td>\n",
       "      <td>1.000000</td>\n",
       "      <td>1.000000</td>\n",
       "      <td>1.000000</td>\n",
       "      <td>...</td>\n",
       "      <td>1.000000</td>\n",
       "      <td>1.000000</td>\n",
       "      <td>1.000000</td>\n",
       "      <td>1.000000</td>\n",
       "      <td>1.000000</td>\n",
       "      <td>1.000000</td>\n",
       "      <td>1.000000</td>\n",
       "      <td>1.000000</td>\n",
       "      <td>1.000000</td>\n",
       "      <td>1.000000</td>\n",
       "    </tr>\n",
       "  </tbody>\n",
       "</table>\n",
       "<p>8 rows × 41 columns</p>\n",
       "</div>"
      ],
      "text/plain": [
       "       StudentNummer       Score     Score.1     Score.2     Score.3  \\\n",
       "count   4.790000e+02  479.000000  479.000000  479.000000  479.000000   \n",
       "mean    5.447409e+06    0.908142    0.565762    0.665971    0.576200   \n",
       "std     2.636061e+06    0.289127    0.496175    0.472143    0.494676   \n",
       "min     1.024103e+06    0.000000    0.000000    0.000000    0.000000   \n",
       "25%     3.275314e+06    1.000000    0.000000    0.000000    0.000000   \n",
       "50%     5.339292e+06    1.000000    1.000000    1.000000    1.000000   \n",
       "75%     7.816836e+06    1.000000    1.000000    1.000000    1.000000   \n",
       "max     9.975114e+06    1.000000    1.000000    1.000000    1.000000   \n",
       "\n",
       "          Score.4     Score.5     Score.6     Score.7     Score.8     ...      \\\n",
       "count  479.000000  479.000000  479.000000  479.000000  479.000000     ...       \n",
       "mean     0.638831    0.889353    0.407098    0.849687    0.473904     ...       \n",
       "std      0.480842    0.314023    0.491807    0.357752    0.499841     ...       \n",
       "min      0.000000    0.000000    0.000000    0.000000    0.000000     ...       \n",
       "25%      0.000000    1.000000    0.000000    1.000000    0.000000     ...       \n",
       "50%      1.000000    1.000000    0.000000    1.000000    0.000000     ...       \n",
       "75%      1.000000    1.000000    1.000000    1.000000    1.000000     ...       \n",
       "max      1.000000    1.000000    1.000000    1.000000    1.000000     ...       \n",
       "\n",
       "         Score.30    Score.31    Score.32    Score.33    Score.34    Score.35  \\\n",
       "count  479.000000  479.000000  479.000000  479.000000  479.000000  479.000000   \n",
       "mean     0.534447    0.812109    0.306889    0.782881    0.799582    0.962422   \n",
       "std      0.499334    0.391034    0.461685    0.412715    0.400731    0.190373   \n",
       "min      0.000000    0.000000    0.000000    0.000000    0.000000    0.000000   \n",
       "25%      0.000000    1.000000    0.000000    1.000000    1.000000    1.000000   \n",
       "50%      1.000000    1.000000    0.000000    1.000000    1.000000    1.000000   \n",
       "75%      1.000000    1.000000    1.000000    1.000000    1.000000    1.000000   \n",
       "max      1.000000    1.000000    1.000000    1.000000    1.000000    1.000000   \n",
       "\n",
       "         Score.36    Score.37    Score.38    Score.39  \n",
       "count  479.000000  479.000000  479.000000  479.000000  \n",
       "mean     0.592902    0.576200    0.820459    0.860125  \n",
       "std      0.491807    0.494676    0.384206    0.347220  \n",
       "min      0.000000    0.000000    0.000000    0.000000  \n",
       "25%      0.000000    0.000000    1.000000    1.000000  \n",
       "50%      1.000000    1.000000    1.000000    1.000000  \n",
       "75%      1.000000    1.000000    1.000000    1.000000  \n",
       "max      1.000000    1.000000    1.000000    1.000000  \n",
       "\n",
       "[8 rows x 41 columns]"
      ]
     },
     "execution_count": 36,
     "metadata": {},
     "output_type": "execute_result"
    }
   ],
   "source": [
    "csn.describe()"
   ]
  },
  {
   "cell_type": "code",
   "execution_count": 37,
   "metadata": {
    "collapsed": false
   },
   "outputs": [
    {
     "data": {
      "text/html": [
       "<div>\n",
       "<table border=\"1\" class=\"dataframe\">\n",
       "  <thead>\n",
       "    <tr style=\"text-align: right;\">\n",
       "      <th></th>\n",
       "      <th>StudentNummerr</th>\n",
       "      <th>Score</th>\n",
       "      <th>Score.1</th>\n",
       "      <th>Score.2</th>\n",
       "      <th>Score.3</th>\n",
       "      <th>Score.4</th>\n",
       "      <th>Score.5</th>\n",
       "      <th>Score.6</th>\n",
       "      <th>Score.7</th>\n",
       "      <th>Score.8</th>\n",
       "      <th>...</th>\n",
       "      <th>Score.30</th>\n",
       "      <th>Score.31</th>\n",
       "      <th>Score.32</th>\n",
       "      <th>Score.33</th>\n",
       "      <th>Score.34</th>\n",
       "      <th>Score.35</th>\n",
       "      <th>Score.36</th>\n",
       "      <th>Score.37</th>\n",
       "      <th>Score.38</th>\n",
       "      <th>Score.39</th>\n",
       "    </tr>\n",
       "  </thead>\n",
       "  <tbody>\n",
       "    <tr>\n",
       "      <th>count</th>\n",
       "      <td>4.530000e+02</td>\n",
       "      <td>453.000000</td>\n",
       "      <td>453.000000</td>\n",
       "      <td>453.000000</td>\n",
       "      <td>453.000000</td>\n",
       "      <td>453.000000</td>\n",
       "      <td>453.000000</td>\n",
       "      <td>453.000000</td>\n",
       "      <td>453.000000</td>\n",
       "      <td>453.000000</td>\n",
       "      <td>...</td>\n",
       "      <td>453.000000</td>\n",
       "      <td>453.000000</td>\n",
       "      <td>453.000000</td>\n",
       "      <td>453.000000</td>\n",
       "      <td>453.000000</td>\n",
       "      <td>453.000000</td>\n",
       "      <td>453.000000</td>\n",
       "      <td>453.000000</td>\n",
       "      <td>453.000000</td>\n",
       "      <td>453.000000</td>\n",
       "    </tr>\n",
       "    <tr>\n",
       "      <th>mean</th>\n",
       "      <td>5.380351e+06</td>\n",
       "      <td>0.381898</td>\n",
       "      <td>0.273731</td>\n",
       "      <td>0.624724</td>\n",
       "      <td>0.768212</td>\n",
       "      <td>0.754967</td>\n",
       "      <td>0.657837</td>\n",
       "      <td>0.810155</td>\n",
       "      <td>0.426049</td>\n",
       "      <td>0.706402</td>\n",
       "      <td>...</td>\n",
       "      <td>0.730684</td>\n",
       "      <td>0.772627</td>\n",
       "      <td>0.673289</td>\n",
       "      <td>0.653422</td>\n",
       "      <td>0.836645</td>\n",
       "      <td>0.706402</td>\n",
       "      <td>0.935982</td>\n",
       "      <td>0.790287</td>\n",
       "      <td>0.406181</td>\n",
       "      <td>0.876380</td>\n",
       "    </tr>\n",
       "    <tr>\n",
       "      <th>std</th>\n",
       "      <td>2.688709e+06</td>\n",
       "      <td>0.486389</td>\n",
       "      <td>0.446365</td>\n",
       "      <td>0.484729</td>\n",
       "      <td>0.422441</td>\n",
       "      <td>0.430582</td>\n",
       "      <td>0.474958</td>\n",
       "      <td>0.392612</td>\n",
       "      <td>0.495048</td>\n",
       "      <td>0.455914</td>\n",
       "      <td>...</td>\n",
       "      <td>0.444095</td>\n",
       "      <td>0.419599</td>\n",
       "      <td>0.469529</td>\n",
       "      <td>0.476406</td>\n",
       "      <td>0.370098</td>\n",
       "      <td>0.455914</td>\n",
       "      <td>0.245055</td>\n",
       "      <td>0.407554</td>\n",
       "      <td>0.491662</td>\n",
       "      <td>0.329512</td>\n",
       "    </tr>\n",
       "    <tr>\n",
       "      <th>min</th>\n",
       "      <td>1.024103e+06</td>\n",
       "      <td>0.000000</td>\n",
       "      <td>0.000000</td>\n",
       "      <td>0.000000</td>\n",
       "      <td>0.000000</td>\n",
       "      <td>0.000000</td>\n",
       "      <td>0.000000</td>\n",
       "      <td>0.000000</td>\n",
       "      <td>0.000000</td>\n",
       "      <td>0.000000</td>\n",
       "      <td>...</td>\n",
       "      <td>0.000000</td>\n",
       "      <td>0.000000</td>\n",
       "      <td>0.000000</td>\n",
       "      <td>0.000000</td>\n",
       "      <td>0.000000</td>\n",
       "      <td>0.000000</td>\n",
       "      <td>0.000000</td>\n",
       "      <td>0.000000</td>\n",
       "      <td>0.000000</td>\n",
       "      <td>0.000000</td>\n",
       "    </tr>\n",
       "    <tr>\n",
       "      <th>25%</th>\n",
       "      <td>3.014301e+06</td>\n",
       "      <td>0.000000</td>\n",
       "      <td>0.000000</td>\n",
       "      <td>0.000000</td>\n",
       "      <td>1.000000</td>\n",
       "      <td>1.000000</td>\n",
       "      <td>0.000000</td>\n",
       "      <td>1.000000</td>\n",
       "      <td>0.000000</td>\n",
       "      <td>0.000000</td>\n",
       "      <td>...</td>\n",
       "      <td>0.000000</td>\n",
       "      <td>1.000000</td>\n",
       "      <td>0.000000</td>\n",
       "      <td>0.000000</td>\n",
       "      <td>1.000000</td>\n",
       "      <td>0.000000</td>\n",
       "      <td>1.000000</td>\n",
       "      <td>1.000000</td>\n",
       "      <td>0.000000</td>\n",
       "      <td>1.000000</td>\n",
       "    </tr>\n",
       "    <tr>\n",
       "      <th>50%</th>\n",
       "      <td>5.110934e+06</td>\n",
       "      <td>0.000000</td>\n",
       "      <td>0.000000</td>\n",
       "      <td>1.000000</td>\n",
       "      <td>1.000000</td>\n",
       "      <td>1.000000</td>\n",
       "      <td>1.000000</td>\n",
       "      <td>1.000000</td>\n",
       "      <td>0.000000</td>\n",
       "      <td>1.000000</td>\n",
       "      <td>...</td>\n",
       "      <td>1.000000</td>\n",
       "      <td>1.000000</td>\n",
       "      <td>1.000000</td>\n",
       "      <td>1.000000</td>\n",
       "      <td>1.000000</td>\n",
       "      <td>1.000000</td>\n",
       "      <td>1.000000</td>\n",
       "      <td>1.000000</td>\n",
       "      <td>0.000000</td>\n",
       "      <td>1.000000</td>\n",
       "    </tr>\n",
       "    <tr>\n",
       "      <th>75%</th>\n",
       "      <td>7.899777e+06</td>\n",
       "      <td>1.000000</td>\n",
       "      <td>1.000000</td>\n",
       "      <td>1.000000</td>\n",
       "      <td>1.000000</td>\n",
       "      <td>1.000000</td>\n",
       "      <td>1.000000</td>\n",
       "      <td>1.000000</td>\n",
       "      <td>1.000000</td>\n",
       "      <td>1.000000</td>\n",
       "      <td>...</td>\n",
       "      <td>1.000000</td>\n",
       "      <td>1.000000</td>\n",
       "      <td>1.000000</td>\n",
       "      <td>1.000000</td>\n",
       "      <td>1.000000</td>\n",
       "      <td>1.000000</td>\n",
       "      <td>1.000000</td>\n",
       "      <td>1.000000</td>\n",
       "      <td>1.000000</td>\n",
       "      <td>1.000000</td>\n",
       "    </tr>\n",
       "    <tr>\n",
       "      <th>max</th>\n",
       "      <td>9.960037e+06</td>\n",
       "      <td>1.000000</td>\n",
       "      <td>1.000000</td>\n",
       "      <td>1.000000</td>\n",
       "      <td>1.000000</td>\n",
       "      <td>1.000000</td>\n",
       "      <td>1.000000</td>\n",
       "      <td>1.000000</td>\n",
       "      <td>1.000000</td>\n",
       "      <td>1.000000</td>\n",
       "      <td>...</td>\n",
       "      <td>1.000000</td>\n",
       "      <td>1.000000</td>\n",
       "      <td>1.000000</td>\n",
       "      <td>1.000000</td>\n",
       "      <td>1.000000</td>\n",
       "      <td>1.000000</td>\n",
       "      <td>1.000000</td>\n",
       "      <td>1.000000</td>\n",
       "      <td>1.000000</td>\n",
       "      <td>1.000000</td>\n",
       "    </tr>\n",
       "  </tbody>\n",
       "</table>\n",
       "<p>8 rows × 41 columns</p>\n",
       "</div>"
      ],
      "text/plain": [
       "       StudentNummerr       Score     Score.1     Score.2     Score.3  \\\n",
       "count    4.530000e+02  453.000000  453.000000  453.000000  453.000000   \n",
       "mean     5.380351e+06    0.381898    0.273731    0.624724    0.768212   \n",
       "std      2.688709e+06    0.486389    0.446365    0.484729    0.422441   \n",
       "min      1.024103e+06    0.000000    0.000000    0.000000    0.000000   \n",
       "25%      3.014301e+06    0.000000    0.000000    0.000000    1.000000   \n",
       "50%      5.110934e+06    0.000000    0.000000    1.000000    1.000000   \n",
       "75%      7.899777e+06    1.000000    1.000000    1.000000    1.000000   \n",
       "max      9.960037e+06    1.000000    1.000000    1.000000    1.000000   \n",
       "\n",
       "          Score.4     Score.5     Score.6     Score.7     Score.8     ...      \\\n",
       "count  453.000000  453.000000  453.000000  453.000000  453.000000     ...       \n",
       "mean     0.754967    0.657837    0.810155    0.426049    0.706402     ...       \n",
       "std      0.430582    0.474958    0.392612    0.495048    0.455914     ...       \n",
       "min      0.000000    0.000000    0.000000    0.000000    0.000000     ...       \n",
       "25%      1.000000    0.000000    1.000000    0.000000    0.000000     ...       \n",
       "50%      1.000000    1.000000    1.000000    0.000000    1.000000     ...       \n",
       "75%      1.000000    1.000000    1.000000    1.000000    1.000000     ...       \n",
       "max      1.000000    1.000000    1.000000    1.000000    1.000000     ...       \n",
       "\n",
       "         Score.30    Score.31    Score.32    Score.33    Score.34    Score.35  \\\n",
       "count  453.000000  453.000000  453.000000  453.000000  453.000000  453.000000   \n",
       "mean     0.730684    0.772627    0.673289    0.653422    0.836645    0.706402   \n",
       "std      0.444095    0.419599    0.469529    0.476406    0.370098    0.455914   \n",
       "min      0.000000    0.000000    0.000000    0.000000    0.000000    0.000000   \n",
       "25%      0.000000    1.000000    0.000000    0.000000    1.000000    0.000000   \n",
       "50%      1.000000    1.000000    1.000000    1.000000    1.000000    1.000000   \n",
       "75%      1.000000    1.000000    1.000000    1.000000    1.000000    1.000000   \n",
       "max      1.000000    1.000000    1.000000    1.000000    1.000000    1.000000   \n",
       "\n",
       "         Score.36    Score.37    Score.38    Score.39  \n",
       "count  453.000000  453.000000  453.000000  453.000000  \n",
       "mean     0.935982    0.790287    0.406181    0.876380  \n",
       "std      0.245055    0.407554    0.491662    0.329512  \n",
       "min      0.000000    0.000000    0.000000    0.000000  \n",
       "25%      1.000000    1.000000    0.000000    1.000000  \n",
       "50%      1.000000    1.000000    0.000000    1.000000  \n",
       "75%      1.000000    1.000000    1.000000    1.000000  \n",
       "max      1.000000    1.000000    1.000000    1.000000  \n",
       "\n",
       "[8 rows x 41 columns]"
      ]
     },
     "execution_count": 37,
     "metadata": {},
     "output_type": "execute_result"
    }
   ],
   "source": [
    "prog.describe()"
   ]
  },
  {
   "cell_type": "markdown",
   "metadata": {},
   "source": [
    "Wat zijn de dimensies van het dataframe?"
   ]
  },
  {
   "cell_type": "code",
   "execution_count": 6,
   "metadata": {
    "collapsed": false
   },
   "outputs": [
    {
     "data": {
      "text/plain": [
       "(479, 42)"
      ]
     },
     "execution_count": 6,
     "metadata": {},
     "output_type": "execute_result"
    }
   ],
   "source": [
    "csn.shape"
   ]
  },
  {
   "cell_type": "code",
   "execution_count": 7,
   "metadata": {
    "collapsed": false
   },
   "outputs": [
    {
     "data": {
      "text/plain": [
       "(453, 42)"
      ]
     },
     "execution_count": 7,
     "metadata": {},
     "output_type": "execute_result"
    }
   ],
   "source": [
    "prog.shape"
   ]
  },
  {
   "cell_type": "markdown",
   "metadata": {},
   "source": [
    "Wat zijn de attributen van het dataframe?"
   ]
  },
  {
   "cell_type": "code",
   "execution_count": 10,
   "metadata": {
    "collapsed": false
   },
   "outputs": [
    {
     "data": {
      "text/plain": [
       "Index(['StudentNummer', 'Eindtijd', 'Score', 'Score.1', 'Score.2', 'Score.3',\n",
       "       'Score.4', 'Score.5', 'Score.6', 'Score.7', 'Score.8', 'Score.9',\n",
       "       'Score.10', 'Score.11', 'Score.12', 'Score.13', 'Score.14', 'Score.15',\n",
       "       'Score.16', 'Score.17', 'Score.18', 'Score.19', 'Score.20', 'Score.21',\n",
       "       'Score.22', 'Score.23', 'Score.24', 'Score.25', 'Score.26', 'Score.27',\n",
       "       'Score.28', 'Score.29', 'Score.30', 'Score.31', 'Score.32', 'Score.33',\n",
       "       'Score.34', 'Score.35', 'Score.36', 'Score.37', 'Score.38', 'Score.39'],\n",
       "      dtype='object')"
      ]
     },
     "execution_count": 10,
     "metadata": {},
     "output_type": "execute_result"
    }
   ],
   "source": [
    "csn.columns"
   ]
  },
  {
   "cell_type": "code",
   "execution_count": 32,
   "metadata": {
    "collapsed": false
   },
   "outputs": [
    {
     "data": {
      "text/plain": [
       "Index(['StudentNummerr', 'Eindtijd', 'Score', 'Score.1', 'Score.2', 'Score.3',\n",
       "       'Score.4', 'Score.5', 'Score.6', 'Score.7', 'Score.8', 'Score.9',\n",
       "       'Score.10', 'Score.11', 'Score.12', 'Score.13', 'Score.14', 'Score.15',\n",
       "       'Score.16', 'Score.17', 'Score.18', 'Score.19', 'Score.20', 'Score.21',\n",
       "       'Score.22', 'Score.23', 'Score.24', 'Score.25', 'Score.26', 'Score.27',\n",
       "       'Score.28', 'Score.29', 'Score.30', 'Score.31', 'Score.32', 'Score.33',\n",
       "       'Score.34', 'Score.35', 'Score.36', 'Score.37', 'Score.38', 'Score.39'],\n",
       "      dtype='object')"
      ]
     },
     "execution_count": 32,
     "metadata": {},
     "output_type": "execute_result"
    }
   ],
   "source": [
    "prog.columns"
   ]
  },
  {
   "cell_type": "markdown",
   "metadata": {},
   "source": [
    "Zijn er missende waardes?"
   ]
  },
  {
   "cell_type": "code",
   "execution_count": 26,
   "metadata": {
    "collapsed": false
   },
   "outputs": [
    {
     "data": {
      "text/plain": [
       "0"
      ]
     },
     "execution_count": 26,
     "metadata": {},
     "output_type": "execute_result"
    }
   ],
   "source": [
    "csn.isnull().sum().sum()"
   ]
  },
  {
   "cell_type": "code",
   "execution_count": 29,
   "metadata": {
    "collapsed": false
   },
   "outputs": [
    {
     "data": {
      "text/plain": [
       "0"
      ]
     },
     "execution_count": 29,
     "metadata": {},
     "output_type": "execute_result"
    }
   ],
   "source": [
    "prog.isnull().sum().sum()"
   ]
  },
  {
   "cell_type": "markdown",
   "metadata": {},
   "source": [
    "Wat zijn de datatypes voor de attributen?"
   ]
  },
  {
   "cell_type": "code",
   "execution_count": 39,
   "metadata": {
    "collapsed": false
   },
   "outputs": [
    {
     "data": {
      "text/plain": [
       "StudentNummer     int64\n",
       "Eindtijd         object\n",
       "Score             int64\n",
       "Score.1           int64\n",
       "Score.2           int64\n",
       "Score.3           int64\n",
       "Score.4           int64\n",
       "Score.5           int64\n",
       "Score.6           int64\n",
       "Score.7           int64\n",
       "Score.8           int64\n",
       "Score.9           int64\n",
       "Score.10          int64\n",
       "Score.11          int64\n",
       "Score.12          int64\n",
       "Score.13          int64\n",
       "Score.14          int64\n",
       "Score.15          int64\n",
       "Score.16          int64\n",
       "Score.17          int64\n",
       "Score.18          int64\n",
       "Score.19          int64\n",
       "Score.20          int64\n",
       "Score.21          int64\n",
       "Score.22          int64\n",
       "Score.23          int64\n",
       "Score.24          int64\n",
       "Score.25          int64\n",
       "Score.26          int64\n",
       "Score.27          int64\n",
       "Score.28          int64\n",
       "Score.29          int64\n",
       "Score.30          int64\n",
       "Score.31          int64\n",
       "Score.32          int64\n",
       "Score.33          int64\n",
       "Score.34          int64\n",
       "Score.35          int64\n",
       "Score.36          int64\n",
       "Score.37          int64\n",
       "Score.38          int64\n",
       "Score.39          int64\n",
       "dtype: object"
      ]
     },
     "execution_count": 39,
     "metadata": {},
     "output_type": "execute_result"
    }
   ],
   "source": [
    "csn.dtypes"
   ]
  },
  {
   "cell_type": "code",
   "execution_count": 40,
   "metadata": {
    "collapsed": false
   },
   "outputs": [
    {
     "data": {
      "text/plain": [
       "StudentNummerr     int64\n",
       "Eindtijd          object\n",
       "Score              int64\n",
       "Score.1            int64\n",
       "Score.2            int64\n",
       "Score.3            int64\n",
       "Score.4            int64\n",
       "Score.5            int64\n",
       "Score.6            int64\n",
       "Score.7            int64\n",
       "Score.8            int64\n",
       "Score.9            int64\n",
       "Score.10           int64\n",
       "Score.11           int64\n",
       "Score.12           int64\n",
       "Score.13           int64\n",
       "Score.14           int64\n",
       "Score.15           int64\n",
       "Score.16           int64\n",
       "Score.17           int64\n",
       "Score.18           int64\n",
       "Score.19           int64\n",
       "Score.20           int64\n",
       "Score.21           int64\n",
       "Score.22           int64\n",
       "Score.23           int64\n",
       "Score.24           int64\n",
       "Score.25           int64\n",
       "Score.26           int64\n",
       "Score.27           int64\n",
       "Score.28           int64\n",
       "Score.29           int64\n",
       "Score.30           int64\n",
       "Score.31           int64\n",
       "Score.32           int64\n",
       "Score.33           int64\n",
       "Score.34           int64\n",
       "Score.35           int64\n",
       "Score.36           int64\n",
       "Score.37           int64\n",
       "Score.38           int64\n",
       "Score.39           int64\n",
       "dtype: object"
      ]
     },
     "execution_count": 40,
     "metadata": {},
     "output_type": "execute_result"
    }
   ],
   "source": [
    "prog.dtypes"
   ]
  },
  {
   "cell_type": "markdown",
   "metadata": {},
   "source": [
    "Van welk type is iedere dimensie (nominaal/categoriaal/discreet/continue)? Plaats de antwoorden in een tabel."
   ]
  },
  {
   "cell_type": "code",
   "execution_count": null,
   "metadata": {
    "collapsed": true
   },
   "outputs": [],
   "source": []
  }
 ],
 "metadata": {
  "kernelspec": {
   "display_name": "Python 3",
   "language": "python",
   "name": "python3"
  },
  "language_info": {
   "codemirror_mode": {
    "name": "ipython",
    "version": 3
   },
   "file_extension": ".py",
   "mimetype": "text/x-python",
   "name": "python",
   "nbconvert_exporter": "python",
   "pygments_lexer": "ipython3",
   "version": "3.6.0"
  }
 },
 "nbformat": 4,
 "nbformat_minor": 2
}
