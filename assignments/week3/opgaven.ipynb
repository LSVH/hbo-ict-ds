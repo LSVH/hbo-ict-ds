{
 "cells": [
  {
   "cell_type": "code",
   "execution_count": 2,
   "metadata": {
    "collapsed": false
   },
   "outputs": [
    {
     "data": {
      "text/html": [
       "<style>\n",
       "img {\n",
       "    max-height:180px;\n",
       "    margin: 0 !important;\n",
       "}\n",
       "</style>"
      ],
      "text/plain": [
       "<IPython.core.display.HTML object>"
      ]
     },
     "metadata": {},
     "output_type": "display_data"
    }
   ],
   "source": [
    "%%html\n",
    "<style>\n",
    "img {\n",
    "    max-height:180px;\n",
    "    margin: 0 !important;\n",
    "}\n",
    "</style>"
   ]
  },
  {
   "cell_type": "code",
   "execution_count": 3,
   "metadata": {
    "collapsed": true
   },
   "outputs": [],
   "source": [
    "import numpy as np\n",
    "import pandas as pd\n",
    "import seaborn as sb\n",
    "import sklearn as sk\n",
    "import scipy as sp\n",
    "import matplotlib.pyplot as plot\n",
    "%matplotlib inline"
   ]
  },
  {
   "cell_type": "markdown",
   "metadata": {},
   "source": [
    "# Opgave 0: Importeren van Iris-dataset\n",
    "_**A.** Voordat je aan de opgaves kunt beginnen, moet je eerst de Iris-dataset kunnen inladen/hebben ingeladen. Schrijf daarvoor een Python-script, waarvan je de code steeds gebruikt bij de komende opgaves._"
   ]
  },
  {
   "cell_type": "code",
   "execution_count": 4,
   "metadata": {
    "collapsed": false
   },
   "outputs": [],
   "source": [
    "data = pd.read_csv('IrisData.csv', sep=';')"
   ]
  },
  {
   "cell_type": "markdown",
   "metadata": {},
   "source": [
    "_**B.** Verdeel deze Iris-dataset ook in een trainingset en een testset. Deze zullen bij de komende opgaven gebruikt worden._"
   ]
  },
  {
   "cell_type": "code",
   "execution_count": 5,
   "metadata": {
    "collapsed": false
   },
   "outputs": [],
   "source": [
    "from sklearn.model_selection import train_test_split\n",
    "train, test = train_test_split(data, random_state=1)"
   ]
  },
  {
   "cell_type": "markdown",
   "metadata": {},
   "source": [
    "# Opgave 1: Lineaire regressie\n",
    "In deze opgave ga je lineaire  regressie  oefenen  door  het  toe  te  passen op  de  Iris-dataset.  Het  is  de  bedoeling dat je dit doet door het uit te programmeren in Python.\n",
    "\n",
    "_**A.** Lineaire regressie is tijdens de les in week 3 behandeld. Omschrijf in je eigen woorden wat lineaire regressie precies inhoudt. Leg dit uit door middel van een tekening._"
   ]
  },
  {
   "cell_type": "markdown",
   "metadata": {},
   "source": [
    "Aan de hand van de voorafgaande resultaten bepalen wat het volgende resultaat gaat worden.\n",
    "![](http://www.camo.com/images/linear_regression.jpg)"
   ]
  },
  {
   "cell_type": "markdown",
   "metadata": {},
   "source": [
    "_**B.** Bij lineaire regressie is het belangrijk dat metingen in een dataset gecorreleerd aan elkaar moeten zijn. Deze correlatie is te bewijzen door middel van een wiskundige formule. Welke formule is dat? Gebruik deze formule om te  bepalen welke metingen in de Iris-dataset gecorreleerd zijn aan elkaar. _"
   ]
  },
  {
   "cell_type": "markdown",
   "metadata": {},
   "source": [
    "$r={n(\\sum{xy})-(\\sum{x})(\\sum{y}) \\over \\sqrt{[n\\sum{x^2}-(\\sum{x})^2][n\\sum{y^2}-(\\sum{y})^2]}}$"
   ]
  },
  {
   "cell_type": "code",
   "execution_count": 6,
   "metadata": {
    "collapsed": false
   },
   "outputs": [],
   "source": [
    "sX = data[\"Sepal.Length\"]\n",
    "sY = data[\"Sepal.Width\"]\n",
    "pX = data[\"Petal.Length\"]\n",
    "pY = data[\"Petal.Width\"]\n",
    "r_sepalLength_petalLength = np.correlate(sX, pX);\n",
    "r_petalWidth_petalWidth = np.correlate(sX, pX);\n",
    "r_sepalLength_sepalWidth = np.correlate(sX, sY);\n",
    "r_petalLength_petalWidth = np.correlate(pX, pY);"
   ]
  },
  {
   "cell_type": "markdown",
   "metadata": {},
   "source": [
    "_**C.** Als je opgave 1. B correct uitgevoerd hebt, weet je nu welke metingen gecorreleerd zijn aan elkaar. Het is aan  jou de taak om de lineaire regressie tussen al deze gecorreleerde metingen toe te passen. Hierbij wordt bedoeld dat je  steeds 2 metingen aan elkaar koppelt en dat je daarbij de formule tussen deze 2 metingen moet bepalen. Deze formule heeft altijd de vorm van: $y = a x + b$ Schrijf hiervoor een script in Python._"
   ]
  },
  {
   "cell_type": "code",
   "execution_count": 7,
   "metadata": {
    "collapsed": false
   },
   "outputs": [],
   "source": [
    "lr_sepalLength_petalLength = np.poly1d(np.polyfit(sX, pX, 1))\n",
    "lr_sepalWidth_petalWidth = np.poly1d(np.polyfit(sY, pY, 1))\n",
    "lr_sepalLength_sepalWidth = np.poly1d(np.polyfit(sX, sY, 1))\n",
    "lr_petalLength_petalWidth = np.poly1d(np.polyfit(pX, pY, 1))"
   ]
  },
  {
   "cell_type": "markdown",
   "metadata": {},
   "source": [
    "_**D.** Genereer van alle gegenereerde formules van de metingen van opgave 1.C plots. In elke plot moet de lijn van de lineaire regressie te zien zijn. Bewaar elke plot als plaatje._"
   ]
  },
  {
   "cell_type": "code",
   "execution_count": 14,
   "metadata": {
    "collapsed": false
   },
   "outputs": [
    {
     "data": {
      "text/plain": [
       "[<matplotlib.lines.Line2D at 0x7fae6da13d30>,\n",
       " <matplotlib.lines.Line2D at 0x7fae6da21550>]"
      ]
     },
     "execution_count": 14,
     "metadata": {},
     "output_type": "execute_result"
    },
    {
     "data": {
      "image/png": "[encoded data removed]",
      "text/plain": [
       "<matplotlib.figure.Figure at 0x7fae6db3a400>"
      ]
     },
     "metadata": {},
     "output_type": "display_data"
    }
   ],
   "source": [
    "plot.plot(sX, pX, 'ro', sX, lr_sepalLength_petalLength(sX), markersize=5)\n",
    "plot.plot(sY, pY, 'go', sY, lr_sepalWidth_petalWidth(sY), markersize=5)\n",
    "plot.plot(sX, sY, 'bo', sX, lr_sepalLength_sepalWidth(sX), markersize=5)\n",
    "plot.plot(pX, pY, 'ko', pX, lr_petalLength_petalWidth(pX), markersize=5)"
   ]
  },
  {
   "cell_type": "markdown",
   "metadata": {},
   "source": [
    "_**E.** Als je de plots bekijkt die je hebt gemaakt in opgave 1.D, zie je dat er datapunten zijn die heel ver van regressielijn liggen. Dit zijn zogenaamde outliers. Deze outliers  hebben een enorm negatief effect op de lineaire regressie met de andere datapunten. Om te kijken hoeveel effect deze outliers hebben op de lineaire moet je alle outliers uit je metingen van opgave 1.C verwijderen en dezelfde gecorreleerde metingen weer plotten, zoals je in opgave 1.D hebt gedaan._"
   ]
  },
  {
   "cell_type": "code",
   "execution_count": 17,
   "metadata": {
    "collapsed": false
   },
   "outputs": [
    {
     "data": {
      "text/plain": [
       "[<matplotlib.lines.Line2D at 0x7fae6d8e3358>,\n",
       " <matplotlib.lines.Line2D at 0x7fae6d8e9b38>]"
      ]
     },
     "execution_count": 17,
     "metadata": {},
     "output_type": "execute_result"
    },
    {
     "data": {
      "image/png": "[encoded data removed]",
      "text/plain": [
       "<matplotlib.figure.Figure at 0x7fae70ea7c88>"
      ]
     },
     "metadata": {},
     "output_type": "display_data"
    }
   ],
   "source": [
    "without_outliers = data.drop('Species', 1)\n",
    "without_outliers = without_outliers[(np.abs(sp.stats.zscore(without_outliers)) < 1).all(axis=1)]\n",
    "wsX = without_outliers[\"Sepal.Length\"]\n",
    "wsY = without_outliers[\"Sepal.Width\"]\n",
    "wpX = without_outliers[\"Petal.Length\"]\n",
    "wpY = without_outliers[\"Petal.Width\"]\n",
    "lr_sepalLength_petalLength = np.poly1d(np.polyfit(wsX, wpX, 1))\n",
    "lr_sepalWidth_petalWidth = np.poly1d(np.polyfit(wsY, wpY, 1))\n",
    "lr_sepalLength_sepalWidth = np.poly1d(np.polyfit(wsX, wsY, 1))\n",
    "lr_petalLength_petalWidth = np.poly1d(np.polyfit(wpX, wpY, 1))\n",
    "plot.plot(wsX, wpX, 'ro', wsX, lr_sepalLength_petalLength(wsX), markersize=3)\n",
    "plot.plot(wsY, wpY, 'go', wsY, lr_sepalWidth_petalWidth(wsY), markersize=3)\n",
    "plot.plot(wsX, wsY, 'bo', wsX, lr_sepalLength_sepalWidth(wsX), markersize=3)\n",
    "plot.plot(wpX, wpY, 'ko', wpX, lr_petalLength_petalWidth(wpX), markersize=3)"
   ]
  },
  {
   "cell_type": "markdown",
   "metadata": {},
   "source": [
    "_**F.** Bekijk de plots van dezelfde metingen van opgave 1.D en 1.E en bepaal hoeveel verschillen er zijn tussen elke sets plots._"
   ]
  },
  {
   "cell_type": "code",
   "execution_count": null,
   "metadata": {
    "collapsed": false
   },
   "outputs": [],
   "source": [
    "mean = pd.DataFrame() \n",
    "mean['Sepal.Length'] = [abs(wsX.mean() - sX.mean())]\n",
    "mean['Sepal.Width'] = [abs(wsY.mean() - sY.mean())]\n",
    "mean['Petal.Length'] = [abs(wpX.mean() - pX.mean())]\n",
    "mean['Petal.Width'] = abs(wpY.mean() - pY.mean())\n",
    "mean"
   ]
  },
  {
   "cell_type": "markdown",
   "metadata": {},
   "source": [
    "_**G.** Wat kun je concluderen over het effect van outliers, als je de sets plots vergelijkt tussen met en zonder outliers?_"
   ]
  },
  {
   "cell_type": "markdown",
   "metadata": {
    "collapsed": true
   },
   "source": [
    "Het gebied waar de data over verspreid is neemt af, het is duidelijker te zien in welk gebied het hoogst geconcetreerd is."
   ]
  },
  {
   "cell_type": "markdown",
   "metadata": {},
   "source": [
    "# Opgave 2: Data Mining: Clustering\n",
    "In deze opgave moet je op de Iris-dataset data mining gaan toepassen met behulp van het k-means-algoritme. De Iris-dataset bestaat uit 3 x 50 sets aan data over de volgende planten: Iris setosa, Iris versicoloren, Iris virginica. Met behulp van die 50 sets aan data is het mogelijk te classificeren welke plantensoort het is aan de hand van zijn data.\n",
    "\n",
    "_**A.** Schrijf Python-code om het k-means-algoritme te initiëren en om er daarna mee te trainen op de trainingset._"
   ]
  },
  {
   "cell_type": "code",
   "execution_count": null,
   "metadata": {
    "collapsed": false
   },
   "outputs": [],
   "source": [
    "tsX = train['Sepal.Length']\n",
    "ctsX = sp.cluster.vq.kmeans(tsX, 3)\n",
    "tsY = train['Sepal.Width']\n",
    "ctsY = sp.cluster.vq.kmeans(tsY, 3)\n",
    "tpX = train['Petal.Length']\n",
    "ctpX = sp.cluster.vq.kmeans(tpX, 1)\n",
    "tpY = train['Petal.Width']\n",
    "ctpY = sp.cluster.vq.kmeans(tpY, 1)"
   ]
  },
  {
   "cell_type": "markdown",
   "metadata": {},
   "source": [
    "_**B.** K-means heeft de Iris-data geclusterd. Schrijf Python-code om te zien wat k-means gedaan heeft._"
   ]
  },
  {
   "cell_type": "code",
   "execution_count": null,
   "metadata": {
    "collapsed": false
   },
   "outputs": [],
   "source": [
    "plot.plot(tsX, tsY, 'co', markersize=3)\n",
    "plot.plot(tpX, tpY, 'yo', markersize=3)\n",
    "plot.plot(ctsX[0], ctsY[0], 'bs', markersize=10)\n",
    "plot.plot(ctpX[0], ctpY[0], 'rs', markersize=10)"
   ]
  },
  {
   "cell_type": "markdown",
   "metadata": {},
   "source": [
    "_**C.** Bepaalwelk cluster hoort bij welke plantensoort._"
   ]
  },
  {
   "cell_type": "code",
   "execution_count": null,
   "metadata": {
    "collapsed": true
   },
   "outputs": [],
   "source": []
  },
  {
   "cell_type": "markdown",
   "metadata": {},
   "source": [
    "_**D.** Schrijf Python-code om een lijst van centroids van de clusters te krijgen._"
   ]
  },
  {
   "cell_type": "code",
   "execution_count": null,
   "metadata": {
    "collapsed": true
   },
   "outputs": [],
   "source": []
  },
  {
   "cell_type": "markdown",
   "metadata": {},
   "source": [
    "_**E.** Je k-means clustering kan nu nieuwe instanties (observaties) in de gevonden clusters plaatsen. Hierbij moet je de testset gebruiken. Bepaal (met kmeans.predict(points)) in welk cluster elk van de punten uit deze testset zit._"
   ]
  },
  {
   "cell_type": "code",
   "execution_count": null,
   "metadata": {
    "collapsed": false
   },
   "outputs": [],
   "source": [
    "sp.cluster.vq.kmeans.predict(ctsX)"
   ]
  },
  {
   "cell_type": "markdown",
   "metadata": {},
   "source": [
    "# Opgave 3: k-Nearest Neighbours\n",
    "\n",
    "_**A.** Leg in je eigen woorden uit wat k-Nearest Neighbours (k-NN) inhoudt en hoe het in zijn werk gaat._"
   ]
  },
  {
   "cell_type": "markdown",
   "metadata": {
    "collapsed": true
   },
   "source": [
    "Centroids in een cluster verplaatsen zich naar het dichtstbijzijnde datapunt."
   ]
  },
  {
   "cell_type": "markdown",
   "metadata": {},
   "source": [
    "_**B.** Verdeel je Iris-dataset in een nieuwe trainingset en een nieuwe testset._"
   ]
  },
  {
   "cell_type": "code",
   "execution_count": null,
   "metadata": {
    "collapsed": true
   },
   "outputs": [],
   "source": []
  },
  {
   "cell_type": "markdown",
   "metadata": {},
   "source": [
    "_**C.** Maak eerst de k-NN-classifier aan, waarbij je het aantal van kvoorlopig op 1 zet._"
   ]
  },
  {
   "cell_type": "code",
   "execution_count": null,
   "metadata": {
    "collapsed": true
   },
   "outputs": [],
   "source": []
  },
  {
   "cell_type": "markdown",
   "metadata": {},
   "source": [
    "_**D.** Train de classifier op de trainingset van de Iris-dataset. Daarna is hij klaar voor gebruik._"
   ]
  },
  {
   "cell_type": "code",
   "execution_count": null,
   "metadata": {
    "collapsed": true
   },
   "outputs": [],
   "source": []
  },
  {
   "cell_type": "markdown",
   "metadata": {},
   "source": [
    "_**E.** Gebruik de Iris-dataset om de data te classificeren._"
   ]
  },
  {
   "cell_type": "code",
   "execution_count": null,
   "metadata": {
    "collapsed": true
   },
   "outputs": [],
   "source": []
  },
  {
   "cell_type": "markdown",
   "metadata": {},
   "source": [
    "_**F.** Bepaal de optimale k. Dit doe je door je Python-script meerdere keren te draaien bij verschillende k’s en bij elk run te bepalen wat de performance ervan is._"
   ]
  },
  {
   "cell_type": "code",
   "execution_count": null,
   "metadata": {
    "collapsed": true
   },
   "outputs": [],
   "source": []
  },
  {
   "cell_type": "markdown",
   "metadata": {},
   "source": [
    "_**G.** Maak tot slot gebruik van de testset uit opgave 3.B van de Iris-dataset en maak gebruik van de getrainde classifier uit opgave 3.C om te bepalen tot welke plantensoort elk regel aan metingen behoort._"
   ]
  },
  {
   "cell_type": "code",
   "execution_count": null,
   "metadata": {
    "collapsed": true
   },
   "outputs": [],
   "source": []
  }
 ],
 "metadata": {
  "kernelspec": {
   "display_name": "Python 3",
   "language": "python",
   "name": "python3"
  },
  "language_info": {
   "codemirror_mode": {
    "name": "ipython",
    "version": 3
   },
   "file_extension": ".py",
   "mimetype": "text/x-python",
   "name": "python",
   "nbconvert_exporter": "python",
   "pygments_lexer": "ipython3",
   "version": "3.6.0"
  }
 },
 "nbformat": 4,
 "nbformat_minor": 2
}
